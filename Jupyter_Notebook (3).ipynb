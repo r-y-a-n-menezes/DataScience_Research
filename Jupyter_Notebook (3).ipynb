{
 "cells": [
  {
   "cell_type": "markdown",
   "metadata": {},
   "source": [
    "<center>\n",
    "    <img src=\"https://cf-courses-data.s3.us.cloud-object-storage.appdomain.cloud/IBMDeveloperSkillsNetwork-DS0105EN-SkillsNetwork/labs/Module2/images/SN_web_lightmode.png\" width=\"300\" alt=\"cognitiveclass.ai logo\">\n",
    "</center>\n"
   ]
  },
  {
   "cell_type": "markdown",
   "metadata": {},
   "source": [
    "#### Add your code below following the instructions given in the course\n"
   ]
  },
  {
   "cell_type": "markdown",
   "metadata": {
    "tags": []
   },
   "source": [
    "# Jupyter_Notebook"
   ]
  },
  {
   "cell_type": "markdown",
   "metadata": {},
   "source": [
    "### INTRODUCTION:Peer-to-Peer Assignment"
   ]
  },
  {
   "cell_type": "markdown",
   "metadata": {},
   "source": [
    "#### The various data science languages are :-\n",
    "\n",
    "##### + Mostly Used-\n",
    "1. Python\n",
    "2. R\n",
    "3. SQL\n",
    " \n",
    "##### + Other languages-\n",
    "1. Julia\n",
    "2. Php\n",
    "3. C++\n",
    "4. Java\n",
    "5. Scala\n",
    "6. Javascript\n",
    "7. Go\n",
    "8. Ruby\n",
    "9. Visual Basic"
   ]
  },
  {
   "cell_type": "markdown",
   "metadata": {
    "tags": []
   },
   "source": [
    "### The various data science libraies are:-\n",
    "\n",
    "| Language|Scientific|Visualization|Ml & Dl|\n",
    "|--------|----------|-------------|-------|\n",
    "|**Python**|1. Pandas|1. Matplotlib|1.Sci-kit learn|\n",
    "|---|2. Numpy |2. Seaborn|2.Keras|\n",
    "|---|---|----|3.Tensor Flow|\n",
    "|---|---|----|4. PyTorch|\n",
    "|**R**|1. Dpylr|1. ggplot2|1. Caret|\n",
    "|---|2. Tidyverse|2. Lattice|2. Torch|\n",
    "|---|3. Survival|3. Plotly  |3. Keras|\n",
    "|---|---|4.Leaflet|---|\n",
    "|**Scala**|1. Breeze|1. Smile-Plot|1. Big DL|\n",
    "|---|1. Scalanlp|2. Vegas|2. ScalaPlot|\n",
    "\n",
    "#### NOTE :-\n",
    "##### * \"---\" or \"does not mean that there are no more libraies in the particular type, it just shows the                  limits of my knowledge.\n",
    "##### * There are other programming languages with libraries,but due to my incomplete knowledge I havent't                 added them.                                                                                               \n",
    "##### * I will update the table as i gain more knowledge.                                                 \n",
    "            \n",
    "\n",
    "        \n"
   ]
  },
  {
   "cell_type": "markdown",
   "metadata": {},
   "source": [
    "### Tools :-\n",
    "\n",
    "##### + Data Management -\n",
    "1. MySql\n",
    "2. MongoDB\n",
    "3. CouchDB\n",
    "\n",
    "##### + Data Integration and Transformation -\n",
    "1. Node RED\n",
    "2. Kafka\n",
    "3. Airflow\n",
    "4. Nifi\n",
    "5. Kubeflow\n",
    "\n",
    "##### + Data Visualization -\n",
    "1. Tableau\n",
    "2. PowerBI\n",
    "3. Hue\n",
    "4. PixieDust\n",
    "5. Kibana\n",
    "\n",
    "##### + Model Deployment -\n",
    "1. Prediction IO\n",
    "2. SELDON\n",
    "3. mLeap\n",
    "\n",
    "##### + Model Monitoring and Assesment -\n",
    "1. ModelDB\n",
    "2. IBM Ai Fairness 360\n",
    "\n",
    "##### + Code Asset Management\n",
    "1. Git\n",
    "2. Gitlab\n",
    "3. GitHub\n",
    "4. Bit Bucket\n",
    "\n",
    "##### + Data Asset Management\n",
    "1. Apache Atlas\n",
    "2. ODPi Egeria\n",
    "3. KYLO\n",
    "\n",
    "##### + Development Enviroment -\n",
    "1. Jupyter Notebook                                                                                               2. Jupyter Labs\n",
    "3. SPYDER\n",
    "4. Rstudio\n",
    "5. VScode\n",
    "6. Apache Zeppelin\n",
    "\n",
    "##### + Execution Environment -\n",
    "1. Ray\n",
    "2. Apache Spark\n",
    "3. Apache FLink\n",
    "\n",
    "#### NOTE-\n",
    "##### * There are other 'Tools' which I will add as my knowledge increases."
   ]
  },
  {
   "cell_type": "markdown",
   "metadata": {},
   "source": [
    "### Examples of arithematic expressions are -\n",
    "1. print(2+3)\n",
    "2. print(a+2)\n",
    "3. print(2.0//1)\n",
    "4. print(a * b)\n"
   ]
  },
  {
   "cell_type": "code",
   "execution_count": 2,
   "metadata": {
    "tags": []
   },
   "outputs": [
    {
     "name": "stdin",
     "output_type": "stream",
     "text": [
      "enter a 2\n",
      "enter b 3\n"
     ]
    },
    {
     "name": "stdout",
     "output_type": "stream",
     "text": [
      "5\n",
      "6\n"
     ]
    }
   ],
   "source": [
    "a = int(input(\"enter a\"))\n",
    "b = int(input(\"enter b\"))\n",
    "\n",
    "print(a+b)\n",
    "print(a*b)"
   ]
  },
  {
   "cell_type": "code",
   "execution_count": 3,
   "metadata": {
    "tags": []
   },
   "outputs": [
    {
     "name": "stdin",
     "output_type": "stream",
     "text": [
      "enter minutes 120\n"
     ]
    },
    {
     "name": "stdout",
     "output_type": "stream",
     "text": [
      "2.0\n"
     ]
    }
   ],
   "source": [
    "minutes = int(input(\"enter minutes\"))\n",
    "hours = minutes/60\n",
    "print(hours)"
   ]
  },
  {
   "cell_type": "markdown",
   "metadata": {},
   "source": [
    "## Objectives :-\n",
    "+ Create a Jupyter Notebook\n",
    "+ Insert code and markdown cells\n",
    "+ Share your notebook through GitHub"
   ]
  },
  {
   "cell_type": "markdown",
   "metadata": {},
   "source": [
    "## Author's Name : Ryan Menezes"
   ]
  },
  {
   "cell_type": "code",
   "execution_count": null,
   "metadata": {},
   "outputs": [],
   "source": []
  }
 ],
 "metadata": {
  "kernelspec": {
   "display_name": "Python",
   "language": "python",
   "name": "conda-env-python-py"
  },
  "language_info": {
   "codemirror_mode": {
    "name": "ipython",
    "version": 3
   },
   "file_extension": ".py",
   "mimetype": "text/x-python",
   "name": "python",
   "nbconvert_exporter": "python",
   "pygments_lexer": "ipython3",
   "version": "3.7.12"
  }
 },
 "nbformat": 4,
 "nbformat_minor": 4
}
