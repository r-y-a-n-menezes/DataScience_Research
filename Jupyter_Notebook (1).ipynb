{
 "cells": [
  {
   "cell_type": "markdown",
   "metadata": {},
   "source": [
    "<center>\n",
    "    <img src=\"https://cf-courses-data.s3.us.cloud-object-storage.appdomain.cloud/IBMDeveloperSkillsNetwork-DS0105EN-SkillsNetwork/labs/Module2/images/SN_web_lightmode.png\" width=\"300\" alt=\"cognitiveclass.ai logo\">\n",
    "</center>\n"
   ]
  },
  {
   "cell_type": "markdown",
   "metadata": {},
   "source": [
    "#### Add your code below following the instructions given in the course\n"
   ]
  },
  {
   "cell_type": "markdown",
   "metadata": {
    "tags": []
   },
   "source": [
    "# Jupyter_Notebook"
   ]
  },
  {
   "cell_type": "markdown",
   "metadata": {},
   "source": [
    "### INTRODUCTION:Peer-to-Peer Assignment"
   ]
  },
  {
   "cell_type": "markdown",
   "metadata": {},
   "source": [
    "#### The various data science languages are :-\n",
    "\n",
    "##### + Mostly Used-\n",
    "1. Python\n",
    "2. R\n",
    "3. SQL\n",
    " \n",
    "##### + Other languages-\n",
    "1. Julia\n",
    "2. Php\n",
    "3. C++\n",
    "4. Java\n",
    "5. Scala\n",
    "6. Javascript\n",
    "7. Go\n",
    "8. Ruby\n",
    "9. Visual Basic"
   ]
  },
  {
   "cell_type": "markdown",
   "metadata": {
    "tags": []
   },
   "source": [
    "### The various data science libraies are:-\n",
    "+ python -\n",
    "1. Pandas\n",
    "2. Matplotlib\n",
    "3. Sci-kit learn\n",
    "4. Numpy\n",
    "5. Seaborn\n",
    "6. Keras\n",
    "7. Tensor Flow\n",
    "8. PyTorch\n",
    "\n",
    "+ R\n",
    "1. Dpylr\n",
    "2. ggplot2\n",
    "3. Caret\n",
    "4. Tidyverse\n",
    "5. Lattice\n",
    "6. Torch\n",
    "7. Survival\n",
    "8. Plotly\n",
    "9. Keras\n",
    "10. Leaflet\n",
    "\n",
    "+ Scala\n",
    "1. Breeze\n",
    "2. Smile-Plot\n",
    "3. Big DL\n",
    "4. Scalanlp\n",
    "5. Vegas\n",
    "6. ScalaPlot\n",
    "\n",
    "#### NOTE :-               \n",
    "##### * There are other programming languages with libraries,but due to my incomplete knowledge I havent't added them.                                   "
   ]
  },
  {
   "cell_type": "markdown",
   "metadata": {},
   "source": [
    "### Tools :-\n",
    "\n",
    "|Data Management|Data Integration and Transformation| Data Visualization| Model Deployment| Model Monitoring and Assesment|Code Asset Management|Data Asset Management|Development Enviroment|Execution Environment|\n",
    "|---------------|-----------------------------------|-------------------|-----------------|-------------------------------|---------------------|---------------------|----------------------|---------------------|\n",
    "| MySql|Node RED|Tableau|Prediction IO|ModelDB| Git|Apache Atlas|Jupyter Notebook| Ray|\n",
    "| MongoDB|Kafka|PowerBI|SELDON|IBM Ai Fairness 360|Gitlab|ODPi Egeria|Jupyter Labs|Apache Spark|\n",
    "| CouchDB|Airflow|Hue| mLeap|IBM adversarial robustness toolbox|GitHub|KYLO|SPYDER|Apache FLink|\n",
    "|Oracle|Nifi|PixieDust|BudgetML|IBM Ai explainability 360|Bit Bucket|--|Rstudio|--|\n",
    "|PostgreSQL|Kubeflow|Kibana|Gradio|Prometheus|--|--|VScode|--|\n",
    "|Microsoft SQL|Spark SQL|Superset|BentoML|MLFlow|--|--|Apache Zeppelin|--|\n",
    "\n"
   ]
  },
  {
   "cell_type": "markdown",
   "metadata": {},
   "source": [
    "### Examples of arithematic expressions are -\n",
    "1. print(2+3)\n",
    "2. print(a+2)\n",
    "3. print(2.0//1)\n",
    "4. print(a * b)\n"
   ]
  },
  {
   "cell_type": "code",
   "execution_count": 2,
   "metadata": {
    "tags": []
   },
   "outputs": [
    {
     "name": "stdin",
     "output_type": "stream",
     "text": [
      "enter a 2\n",
      "enter b 3\n"
     ]
    },
    {
     "name": "stdout",
     "output_type": "stream",
     "text": [
      "5\n",
      "6\n"
     ]
    }
   ],
   "source": [
    "a = int(input(\"enter a\"))\n",
    "b = int(input(\"enter b\"))\n",
    "\n",
    "print(a+b)\n",
    "print(a*b)"
   ]
  },
  {
   "cell_type": "code",
   "execution_count": 3,
   "metadata": {
    "tags": []
   },
   "outputs": [
    {
     "name": "stdin",
     "output_type": "stream",
     "text": [
      "enter minutes 120\n"
     ]
    },
    {
     "name": "stdout",
     "output_type": "stream",
     "text": [
      "2.0\n"
     ]
    }
   ],
   "source": [
    "minutes = int(input(\"enter minutes\"))\n",
    "hours = minutes/60\n",
    "print(hours)"
   ]
  },
  {
   "cell_type": "markdown",
   "metadata": {},
   "source": [
    "## Objectives :-\n",
    "+ Create a Jupyter Notebook\n",
    "+ Insert code and markdown cells\n",
    "+ Share your notebook through GitHub"
   ]
  },
  {
   "cell_type": "markdown",
   "metadata": {},
   "source": [
    "## Author's Name : Ryan Menezes"
   ]
  },
  {
   "cell_type": "code",
   "execution_count": null,
   "metadata": {},
   "outputs": [],
   "source": []
  }
 ],
 "metadata": {
  "kernelspec": {
   "display_name": "Python",
   "language": "python",
   "name": "conda-env-python-py"
  },
  "language_info": {
   "codemirror_mode": {
    "name": "ipython",
    "version": 3
   },
   "file_extension": ".py",
   "mimetype": "text/x-python",
   "name": "python",
   "nbconvert_exporter": "python",
   "pygments_lexer": "ipython3",
   "version": "3.7.12"
  }
 },
 "nbformat": 4,
 "nbformat_minor": 4
}
